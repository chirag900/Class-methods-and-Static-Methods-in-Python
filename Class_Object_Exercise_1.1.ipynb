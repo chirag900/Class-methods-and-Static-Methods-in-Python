{
 "cells": [
  {
   "cell_type": "markdown",
   "metadata": {},
   "source": [
    "Exercise_1.1 Class and object "
   ]
  },
  {
   "cell_type": "code",
   "execution_count": 8,
   "metadata": {},
   "outputs": [
    {
     "name": "stdout",
     "output_type": "stream",
     "text": [
      "<__main__.Employee object at 0x00000000082AE708>\n",
      "<__main__.Employee object at 0x00000000082AED48>\n"
     ]
    }
   ],
   "source": [
    "class Employee:\n",
    "    pass\n",
    "\n",
    "emp_1 = Employee() #an instance of class employee\n",
    "emp_2 = Employee() # an instance of class employee\n",
    "\n",
    "print(emp_1) #print the object emp1 of the class employee\n",
    "print(emp_2)\n",
    "# the objects emp1 and emp2 are stored in different locations"
   ]
  },
  {
   "cell_type": "code",
   "execution_count": 9,
   "metadata": {},
   "outputs": [
    {
     "name": "stdout",
     "output_type": "stream",
     "text": [
      "<__main__.Employee object at 0x0000000008500488>\n",
      "<__main__.Employee object at 0x0000000008747D08>\n",
      "chirag\n",
      "sindogi\n",
      "50000\n",
      "chiragsindogi@company.com\n",
      "\n",
      "\n",
      "mahesh\n",
      "chikodi\n",
      "500000\n",
      "maheshchikodi@company.com\n"
     ]
    }
   ],
   "source": [
    "class Employee:\n",
    "    pass\n",
    "\n",
    "emp_1 = Employee() #an instance of class employee\n",
    "emp_2 = Employee() # an instance of class employee\n",
    "\n",
    "print(emp_1) #print the object emp1 of the class employee\n",
    "print(emp_2)\n",
    "\n",
    "emp_1.first = 'chirag'\n",
    "emp_1.last = 'sindogi'\n",
    "emp_1.pay = 50000\n",
    "emp_1.email = 'chiragsindogi@company.com'\n",
    "\n",
    "\n",
    "emp_2.first = 'mahesh'\n",
    "emp_2.last = 'chikodi'\n",
    "emp_2.pay = 500000\n",
    "emp_2.email = 'maheshchikodi@company.com'\n",
    "\n",
    "print(emp_1.first)\n",
    "print(emp_1.last)\n",
    "print(emp_1.pay)\n",
    "print(emp_1.email)\n",
    "\n",
    "print('\\n')\n",
    "print(emp_2.first)\n",
    "print(emp_2.last)\n",
    "print(emp_2.pay)\n",
    "print(emp_2.email)\n",
    "\n"
   ]
  },
  {
   "cell_type": "code",
   "execution_count": 10,
   "metadata": {},
   "outputs": [
    {
     "name": "stdout",
     "output_type": "stream",
     "text": [
      "chiragsindogi@company.com\n",
      "maheshchikodi@company.com\n"
     ]
    }
   ],
   "source": [
    "#usefulness of class\n",
    "\n",
    "class Employee:\n",
    "    def __init__(self,first,last,pay): #first, last , pay are attributes to class Employee\n",
    "        self.first=first\n",
    "        self.last=last\n",
    "        self.pay=pay\n",
    "        self.email = first + last + '@company.com'\n",
    "emp_1=Employee('chirag','sindogi',50000)\n",
    "emp_2=Employee('mahesh','chikodi',500000)\n",
    "\n",
    "print(emp_1.email)\n",
    "print(emp_2.email)"
   ]
  },
  {
   "cell_type": "code",
   "execution_count": 11,
   "metadata": {},
   "outputs": [
    {
     "name": "stdout",
     "output_type": "stream",
     "text": [
      "chiragsindogi@company.com\n",
      "maheshchikodi@company.com\n",
      "chirag sindogi\n",
      "mahesh chikodi\n"
     ]
    }
   ],
   "source": [
    "#usefulness of class\n",
    "\n",
    "class Employee:\n",
    "    def __init__(self,first,last,pay): #first, last , pay are attributes to class\n",
    "        self.first=first\n",
    "        self.last=last\n",
    "        self.pay=pay\n",
    "        self.email = first + last + '@company.com'\n",
    "    \n",
    "    \n",
    "emp_1=Employee('chirag','sindogi',50000)\n",
    "emp_2=Employee('mahesh','chikodi',500000)\n",
    "\n",
    "print(emp_1.email)\n",
    "print(emp_2.email)\n",
    "\n",
    "#full name (task that we need to perform)\n",
    "print(\"{} {}\".format(emp_1.first, emp_1.last))\n",
    "print(\"{} {}\".format(emp_2.first, emp_2.last))"
   ]
  },
  {
   "cell_type": "code",
   "execution_count": 12,
   "metadata": {},
   "outputs": [
    {
     "name": "stdout",
     "output_type": "stream",
     "text": [
      "chiragsindogi@company.com\n",
      "maheshchikodi@company.com\n",
      "chirag sindogi\n"
     ]
    }
   ],
   "source": [
    "#defining methods in the class\n",
    "\n",
    "class Employee:\n",
    "    def __init__(self,first,last,pay): #first, last , pay are attributes to class\n",
    "        self.first=first\n",
    "        self.last=last\n",
    "        self.pay=pay\n",
    "        self.email = first + last + '@company.com'\n",
    "    \n",
    "    #each method in  class, takes instance as the first argument, and here instance means objects\n",
    "    def fullname(self):\n",
    "        return ('{} {}'.format(self.first, self.last))\n",
    "        \n",
    "    \n",
    "emp_1=Employee('chirag','sindogi',50000)\n",
    "emp_2=Employee('mahesh','chikodi',500000)\n",
    "\n",
    "print(emp_1.email)\n",
    "print(emp_2.email)\n",
    "print(emp_1.fullname())\n"
   ]
  },
  {
   "cell_type": "code",
   "execution_count": 13,
   "metadata": {},
   "outputs": [
    {
     "name": "stdout",
     "output_type": "stream",
     "text": [
      "chiragsindogi@company.com\n",
      "maheshchikodi@company.com\n"
     ]
    },
    {
     "ename": "TypeError",
     "evalue": "fullname() takes 0 positional arguments but 1 was given",
     "output_type": "error",
     "traceback": [
      "\u001b[1;31m---------------------------------------------------------------------------\u001b[0m",
      "\u001b[1;31mTypeError\u001b[0m                                 Traceback (most recent call last)",
      "\u001b[1;32m<ipython-input-13-ca5a1aac8241>\u001b[0m in \u001b[0;36m<module>\u001b[1;34m\u001b[0m\n\u001b[0;32m     17\u001b[0m \u001b[0mprint\u001b[0m\u001b[1;33m(\u001b[0m\u001b[0memp_1\u001b[0m\u001b[1;33m.\u001b[0m\u001b[0memail\u001b[0m\u001b[1;33m)\u001b[0m\u001b[1;33m\u001b[0m\u001b[1;33m\u001b[0m\u001b[0m\n\u001b[0;32m     18\u001b[0m \u001b[0mprint\u001b[0m\u001b[1;33m(\u001b[0m\u001b[0memp_2\u001b[0m\u001b[1;33m.\u001b[0m\u001b[0memail\u001b[0m\u001b[1;33m)\u001b[0m\u001b[1;33m\u001b[0m\u001b[1;33m\u001b[0m\u001b[0m\n\u001b[1;32m---> 19\u001b[1;33m \u001b[0mprint\u001b[0m\u001b[1;33m(\u001b[0m\u001b[0memp_1\u001b[0m\u001b[1;33m.\u001b[0m\u001b[0mfullname\u001b[0m\u001b[1;33m(\u001b[0m\u001b[1;33m)\u001b[0m\u001b[1;33m)\u001b[0m \u001b[1;31m#here emp_1 is getting passed as an argument to the method fullname()\u001b[0m\u001b[1;33m\u001b[0m\u001b[1;33m\u001b[0m\u001b[0m\n\u001b[0m\u001b[0;32m     20\u001b[0m \u001b[1;33m\u001b[0m\u001b[0m\n\u001b[0;32m     21\u001b[0m \u001b[1;31m#fullname() method is taking one argument here but we haven't specified any argument in the method which is defined inside the class\u001b[0m\u001b[1;33m\u001b[0m\u001b[1;33m\u001b[0m\u001b[1;33m\u001b[0m\u001b[0m\n",
      "\u001b[1;31mTypeError\u001b[0m: fullname() takes 0 positional arguments but 1 was given"
     ]
    }
   ],
   "source": [
    "#What happens if we remove self in the method inside the class\n",
    "class Employee:\n",
    "    def __init__(self,first,last,pay): #first, last , pay are attributes to class\n",
    "        self.first=first\n",
    "        self.last=last\n",
    "        self.pay=pay\n",
    "        self.email = first + last + '@company.com'\n",
    "    #each method in  class takes instance as the first argument, and here instance means objects\n",
    "   \n",
    "    def fullname(): # no argument is passed here\n",
    "        return ('{} {}'.format(self.first, self.last))\n",
    "        \n",
    "    \n",
    "emp_1=Employee('chirag','sindogi',50000)\n",
    "emp_2=Employee('mahesh','chikodi',500000)\n",
    "\n",
    "print(emp_1.email)\n",
    "print(emp_2.email)\n",
    "print(emp_1.fullname()) #here emp_1 is getting passed as an argument to the method fullname()\n",
    "\n",
    "#fullname() method is taking one argument here but we haven't specified any argument in the method which is defined inside the class\n"
   ]
  },
  {
   "cell_type": "code",
   "execution_count": 14,
   "metadata": {},
   "outputs": [
    {
     "name": "stdout",
     "output_type": "stream",
     "text": [
      "chiragsindogi@company.com\n",
      "maheshchikodi@company.com\n",
      "chirag sindogi\n",
      "chirag sindogi\n"
     ]
    }
   ],
   "source": [
    "#using the class name itself\n",
    "\n",
    "class Employee:\n",
    "    def __init__(self,first,last,pay): #first, last , pay are attributes to class\n",
    "        self.first=first\n",
    "        self.last=last\n",
    "        self.pay=pay\n",
    "        self.email = first + last + '@company.com'\n",
    "    \n",
    "    #each method in  class takes instance as the first argument, and here instance means objects\n",
    "    def fullname(self):\n",
    "        return ('{} {}'.format(self.first, self.last))\n",
    "        \n",
    "    \n",
    "emp_1=Employee('chirag','sindogi',50000)\n",
    "emp_2=Employee('mahesh','chikodi',500000)\n",
    "\n",
    "print(emp_1.email)\n",
    "print(emp_2.email)\n",
    "\n",
    "print(emp_1.fullname())  # method on instance or object\n",
    "print(Employee.fullname(emp_1)) # method on class and passing instance as argument"
   ]
  },
  {
   "cell_type": "code",
   "execution_count": 15,
   "metadata": {},
   "outputs": [
    {
     "data": {
      "text/plain": [
       "'chirag sindogi'"
      ]
     },
     "execution_count": 15,
     "metadata": {},
     "output_type": "execute_result"
    }
   ],
   "source": [
    "Employee.fullname(emp_1)"
   ]
  },
  {
   "cell_type": "code",
   "execution_count": 16,
   "metadata": {},
   "outputs": [
    {
     "data": {
      "text/plain": [
       "'Corey Schafer'"
      ]
     },
     "execution_count": 16,
     "metadata": {},
     "output_type": "execute_result"
    }
   ],
   "source": [
    "class Employee:\n",
    "\n",
    "    def __init__(self, first, last, pay):\n",
    "        self.first = first\n",
    "        self.last = last\n",
    "        self.email = first + '.' + last + '@email.com'\n",
    "        self.pay = pay\n",
    "\n",
    "    def fullname(self):\n",
    "        return '{} {}'.format(self.first, self.last)\n",
    "\n",
    "emp_1 = Employee('Corey', 'Schafer', 50000)\n",
    "emp_2 = Employee('Test', 'Employee', 60000)\n",
    "\n",
    "Employee.fullname(emp_1)"
   ]
  },
  {
   "cell_type": "code",
   "execution_count": null,
   "metadata": {},
   "outputs": [],
   "source": []
  },
  {
   "cell_type": "code",
   "execution_count": null,
   "metadata": {},
   "outputs": [],
   "source": []
  }
 ],
 "metadata": {
  "kernelspec": {
   "display_name": "Python 3",
   "language": "python",
   "name": "python3"
  },
  "language_info": {
   "codemirror_mode": {
    "name": "ipython",
    "version": 3
   },
   "file_extension": ".py",
   "mimetype": "text/x-python",
   "name": "python",
   "nbconvert_exporter": "python",
   "pygments_lexer": "ipython3",
   "version": "3.7.5"
  }
 },
 "nbformat": 4,
 "nbformat_minor": 2
}
