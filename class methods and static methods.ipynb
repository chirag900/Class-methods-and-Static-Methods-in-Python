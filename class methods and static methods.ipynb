{
 "cells": [
  {
   "cell_type": "markdown",
   "metadata": {},
   "source": [
    "class method"
   ]
  },
  {
   "cell_type": "code",
   "execution_count": 6,
   "metadata": {},
   "outputs": [
    {
     "name": "stdout",
     "output_type": "stream",
     "text": [
      "1.04\n",
      "1.04\n",
      "1.04\n"
     ]
    }
   ],
   "source": [
    "# where does not add meaning to add self (no of employees case)\n",
    "class Employee:\n",
    "    raise_amount = 1.04 #class variable\n",
    "    no_of_employees = 0\n",
    "    \n",
    "    def __init__(self, first, last, pay):\n",
    "        self.first = first\n",
    "        self.last = last\n",
    "        self.email = first + '.' + last + '@email.com'\n",
    "        self.pay = pay\n",
    "        \n",
    "    \n",
    "    def fullname(self):\n",
    "        return '{} {}'.format(self.first, self.last)\n",
    "   \n",
    "    def apply_raise(self):\n",
    "        self.pay = int(self.pay * self.raise_amount)\n",
    "        self.no_of_employees +=1\n",
    "        \n",
    "    @classmethod\n",
    "    def set_raise_amt(cls,amount):\n",
    "        cls.raise_amount=amount\n",
    "        \n",
    "\n",
    "emp_1 = Employee('Corey', 'Schafer', 50000)\n",
    "emp_2 = Employee('Test', 'Employee', 60000)\n",
    "\n",
    "print(Employee.raise_amount)\n",
    "print(emp_1.raise_amount)\n",
    "print(emp_2.raise_amount)"
   ]
  },
  {
   "cell_type": "code",
   "execution_count": null,
   "metadata": {},
   "outputs": [],
   "source": []
  },
  {
   "cell_type": "code",
   "execution_count": 7,
   "metadata": {},
   "outputs": [
    {
     "name": "stdout",
     "output_type": "stream",
     "text": [
      "1.05\n",
      "1.05\n",
      "1.05\n"
     ]
    }
   ],
   "source": [
    "class Employee:\n",
    "    raise_amount = 1.04 #class variable value is changed here by using class method\n",
    "    no_of_employees = 0\n",
    "    \n",
    "    def __init__(self, first, last, pay):\n",
    "        self.first = first\n",
    "        self.last = last\n",
    "        self.email = first + '.' + last + '@email.com'\n",
    "        self.pay = pay\n",
    "        \n",
    "    \n",
    "    def fullname(self):\n",
    "        return '{} {}'.format(self.first, self.last)\n",
    "   \n",
    "    def apply_raise(self):\n",
    "        self.pay = int(self.pay * self.raise_amount)\n",
    "        self.no_of_employees +=1\n",
    "        \n",
    "    @classmethod\n",
    "    def set_raise_amt(cls,amount): \n",
    "        cls.raise_amount=amount #assigning amount value to raise_amount class variable\n",
    "        \n",
    "\n",
    "emp_1 = Employee('Corey', 'Schafer', 50000)\n",
    "emp_2 = Employee('Test', 'Employee', 60000)\n",
    "\n",
    "Employee.set_raise_amt(1.05)\n",
    "\n",
    "print(Employee.raise_amount)\n",
    "print(emp_1.raise_amount)\n",
    "print(emp_2.raise_amount)"
   ]
  },
  {
   "cell_type": "markdown",
   "metadata": {},
   "source": [
    "in the above cell we have defined set_raise_amt, which is class method.\n",
    "and we are passing cls which is class as first attribute to the set_raise_amt method.\n",
    "\n",
    "Employee.set_raise_amt(1.05) : This means that we are passing 1.05 value to the variable \"amount\", which is defined as variable in the class method.\n",
    "And amount <- takes 1.05 as value. Which means that attribute in the class method (here it is : amount). This attribute value is given a value = 1.05 when we call the class method ie, Employee.set_raise_amt(1.05).\n",
    "\n",
    "The remaining instances will also take the changed class variable value :1.05. ie, emp_1.raise_amount and emp_2.raise_amount. (Since instances doesn't have any such attribute, they look for that attribute (here raise_amount) in the class definition. Here class has the attribute named raise_amount, which is class variable.\n",
    "\n",
    "And the instance takes the value of the attribute from the class which it inherits.\n"
   ]
  },
  {
   "cell_type": "code",
   "execution_count": null,
   "metadata": {},
   "outputs": [],
   "source": []
  },
  {
   "cell_type": "markdown",
   "metadata": {},
   "source": [
    "we can fetch class method using instance as well. But that doesn't make much sense. Following below code shows that."
   ]
  },
  {
   "cell_type": "code",
   "execution_count": 9,
   "metadata": {},
   "outputs": [
    {
     "name": "stdout",
     "output_type": "stream",
     "text": [
      "1.06\n",
      "1.06\n",
      "1.06\n"
     ]
    }
   ],
   "source": [
    "class Employee:\n",
    "    raise_amount = 1.04 #class variable value is changed here by using class method\n",
    "    no_of_employees = 0\n",
    "    \n",
    "    def __init__(self, first, last, pay):\n",
    "        self.first = first\n",
    "        self.last = last\n",
    "        self.email = first + '.' + last + '@email.com'\n",
    "        self.pay = pay\n",
    "        \n",
    "    \n",
    "    def fullname(self):\n",
    "        return '{} {}'.format(self.first, self.last)\n",
    "   \n",
    "    def apply_raise(self):\n",
    "        self.pay = int(self.pay * self.raise_amount)\n",
    "        self.no_of_employees +=1\n",
    "        \n",
    "    @classmethod\n",
    "    def set_raise_amt(cls,amount): \n",
    "        cls.raise_amount=amount #assigning amount value to raise_amount class variable\n",
    "        \n",
    "\n",
    "emp_1 = Employee('Corey', 'Schafer', 50000)\n",
    "emp_2 = Employee('Test', 'Employee', 60000)\n",
    "\n",
    "emp_1.set_raise_amt(1.06)\n",
    "\n",
    "print(Employee.raise_amount)\n",
    "print(emp_1.raise_amount)\n",
    "print(emp_2.raise_amount)"
   ]
  },
  {
   "cell_type": "markdown",
   "metadata": {},
   "source": [
    "Using class methods as alternative constructors. That means we can use class methods for providing multiple ways of creating objects.\n",
    "\n",
    "suppose we have:\n",
    "emp_str_1 = 'John-Doe-70000' #first name, last name , salary\n",
    "emp_str_2 = 'Steve-Smith-30000'\n",
    "emp_str-3 = 'Jane-Doe-90000'\n",
    "\n",
    "we want the output as separate these first name, last name and Pay. And also display the email. These emp_str_1, str2,str3 are new employees for whom we want to display as mentioned above.\n",
    "\n",
    "Below cell \n",
    "code gives the interpretation."
   ]
  },
  {
   "cell_type": "code",
   "execution_count": 12,
   "metadata": {},
   "outputs": [
    {
     "name": "stdout",
     "output_type": "stream",
     "text": [
      "John.Doe@email.com\n",
      "70000\n"
     ]
    }
   ],
   "source": [
    "class Employee:\n",
    "    raise_amount = 1.04 #class variable value is changed here by using class method\n",
    "    no_of_employees = 0\n",
    "    \n",
    "    def __init__(self, first, last, pay):\n",
    "        self.first = first\n",
    "        self.last = last\n",
    "        self.email = first + '.' + last + '@email.com'\n",
    "        self.pay = pay\n",
    "        \n",
    "    \n",
    "    def fullname(self):\n",
    "        return '{} {}'.format(self.first, self.last)\n",
    "   \n",
    "    def apply_raise(self):\n",
    "        self.pay = int(self.pay * self.raise_amount)\n",
    "        self.no_of_employees +=1\n",
    "        \n",
    "    @classmethod\n",
    "    def set_raise_amt(cls,amount): \n",
    "        cls.raise_amount=amount #assigning amount value to raise_amount class variable\n",
    "      \n",
    "\n",
    "emp_1 = Employee('Corey', 'Schafer', 50000)\n",
    "emp_2 = Employee('Test', 'Employee', 60000)\n",
    "\n",
    "emp_str_1 = 'John-Doe-70000' #first name, last name , pay\n",
    "emp_str_2 = 'Steve-Smith-30000'\n",
    "emp_str_3 = 'Jane-Doe-90000'\n",
    "\n",
    "first, last, pay = emp_str_1.split('-')\n",
    "\n",
    "new_emp_1 = Employee(first, last, pay)\n",
    "\n",
    "print(new_emp_1.email)\n",
    "print(new_emp_1.pay)\n",
    "\n"
   ]
  },
  {
   "cell_type": "markdown",
   "metadata": {},
   "source": [
    "above cell code splits the strings into first name, last name and pay.\n",
    "But to do this we are printing the new_emp_1.email, new_emp_1.pay, and again for new_emp_2.email, new_emp_2.pay. \n",
    "\n",
    "And also :\n",
    "first, last, pay = emp_str_1.split('-')\n",
    "first, last, pay = emp_str_2.split('-')\n",
    "first, last, pay = emp_str_3.split('-')\n",
    "\n",
    "new_emp_1=Employee(first, last, pay)\n",
    "new_emp_2=Employee(first, last, pay)\n",
    "new_emp_3=Employee(first, last, pay)\n",
    "\n",
    "here strings are repeatadly split and repeatadly passed to new_emp variables.\n",
    "\n",
    "And suppose we have 100 new employees, then we need to use the instance name repeatadly for all 100 employees and which is tedious.\n",
    "\n",
    "In order to avoid such tedeous task we are using @class method and defining new class method."
   ]
  },
  {
   "cell_type": "code",
   "execution_count": null,
   "metadata": {},
   "outputs": [],
   "source": []
  },
  {
   "cell_type": "code",
   "execution_count": 16,
   "metadata": {},
   "outputs": [
    {
     "name": "stdout",
     "output_type": "stream",
     "text": [
      "Steve.Smith@email.com\n",
      "30000\n"
     ]
    }
   ],
   "source": [
    "class Employee:\n",
    "    raise_amount = 1.04 #class variable value is changed here by using class method\n",
    "    no_of_employees = 0\n",
    "    \n",
    "    def __init__(self, first, last, pay):\n",
    "        self.first = first\n",
    "        self.last = last\n",
    "        self.email = first + '.' + last + '@email.com'\n",
    "        self.pay = pay\n",
    "        \n",
    "    \n",
    "    def fullname(self):\n",
    "        return '{} {}'.format(self.first, self.last)\n",
    "   \n",
    "    def apply_raise(self):\n",
    "        self.pay = int(self.pay * self.raise_amount)\n",
    "        self.no_of_employees +=1\n",
    "        \n",
    "    @classmethod\n",
    "    def set_raise_amt(cls,amount): \n",
    "        cls.raise_amount=amount #assigning amount value to raise_amount class variable\n",
    "     \n",
    "    @classmethod\n",
    "    def from_string(cls,emp_str):\n",
    "        first, last, pay = emp_str.split('-')\n",
    "        return (cls(first, last, pay))\n",
    "\n",
    "emp_1 = Employee('Corey', 'Schafer', 50000)\n",
    "emp_2 = Employee('Test', 'Employee', 60000)\n",
    "\n",
    "emp_str_1 = 'John-Doe-70000' #first name, last name , pay\n",
    "emp_str_2 = 'Steve-Smith-30000'\n",
    "emp_str_3 = 'Jane-Doe-90000'\n",
    "\n",
    "\n",
    "\n",
    "new_emp_1=Employee.from_string(emp_str_1)\n",
    "new_emp_1=Employee.from_string(emp_str_2)\n",
    "\n",
    "print(new_emp_1.email)\n",
    "print(new_emp_1.pay)\n"
   ]
  },
  {
   "cell_type": "code",
   "execution_count": null,
   "metadata": {},
   "outputs": [],
   "source": []
  },
  {
   "cell_type": "code",
   "execution_count": 28,
   "metadata": {},
   "outputs": [
    {
     "ename": "TypeError",
     "evalue": "printing() missing 1 required positional argument: 'pay'",
     "output_type": "error",
     "traceback": [
      "\u001b[1;31m---------------------------------------------------------------------------\u001b[0m",
      "\u001b[1;31mTypeError\u001b[0m                                 Traceback (most recent call last)",
      "\u001b[1;32m<ipython-input-28-ad9412df8e8b>\u001b[0m in \u001b[0;36m<module>\u001b[1;34m\u001b[0m\n\u001b[0;32m     41\u001b[0m \u001b[0mnew_emp_1\u001b[0m\u001b[1;33m=\u001b[0m\u001b[0mEmployee\u001b[0m\u001b[1;33m.\u001b[0m\u001b[0mfrom_string\u001b[0m\u001b[1;33m(\u001b[0m\u001b[0memp_str_2\u001b[0m\u001b[1;33m)\u001b[0m\u001b[1;33m\u001b[0m\u001b[1;33m\u001b[0m\u001b[0m\n\u001b[0;32m     42\u001b[0m \u001b[1;33m\u001b[0m\u001b[0m\n\u001b[1;32m---> 43\u001b[1;33m \u001b[0mprint\u001b[0m\u001b[1;33m(\u001b[0m\u001b[0mnew_emp_1\u001b[0m\u001b[1;33m.\u001b[0m\u001b[0mprinting\u001b[0m\u001b[1;33m(\u001b[0m\u001b[0memp_str_1\u001b[0m\u001b[1;33m)\u001b[0m\u001b[1;33m)\u001b[0m\u001b[1;33m\u001b[0m\u001b[1;33m\u001b[0m\u001b[0m\n\u001b[0m",
      "\u001b[1;31mTypeError\u001b[0m: printing() missing 1 required positional argument: 'pay'"
     ]
    }
   ],
   "source": [
    "class Employee:\n",
    "    raise_amount = 1.04 #class variable value is changed here by using class method\n",
    "    no_of_employees = 0\n",
    "    \n",
    "    def __init__(self, first, last, pay):\n",
    "        self.first = first\n",
    "        self.last = last\n",
    "        self.email = first + '.' + last + '@email.com'\n",
    "        self.pay = pay\n",
    "        \n",
    "    \n",
    "    def fullname(self):  #Regular method\n",
    "        return '{} {}'.format(self.first, self.last)\n",
    "   \n",
    "    def apply_raise(self):  #Regular method\n",
    "        self.pay = int(self.pay * self.raise_amount)\n",
    "        self.no_of_employees +=1\n",
    "        \n",
    "    def printing(self,email,pay):\n",
    "        self.email=email\n",
    "        self.pay=pay\n",
    "    @classmethod\n",
    "    def set_raise_amt(cls,amount): \n",
    "        cls.raise_amount=amount #assigning amount value to raise_amount class variable\n",
    "     \n",
    "    @classmethod\n",
    "    def from_string(cls,emp_str):\n",
    "        first, last, pay = emp_str.split('-')\n",
    "        return (cls(first, last, pay))\n",
    "\n",
    "emp_1 = Employee('Corey', 'Schafer', 50000)\n",
    "emp_2 = Employee('Test', 'Employee', 60000)\n",
    "\n",
    "emp_str_1 = 'John-Doe-70000' #first name, last name , pay\n",
    "emp_str_2 = 'Steve-Smith-30000'\n",
    "emp_str_3 = 'Jane-Doe-90000'\n",
    "\n",
    "\n",
    "\n",
    "new_emp_1=Employee.from_string(emp_str_1)\n",
    "new_emp_1=Employee.from_string(emp_str_2)\n",
    "\n",
    "print(new_emp_1.printing(emp_str_1))"
   ]
  },
  {
   "cell_type": "code",
   "execution_count": null,
   "metadata": {},
   "outputs": [],
   "source": []
  },
  {
   "cell_type": "markdown",
   "metadata": {},
   "source": [
    "Static methods:\n",
    "Regular methods: pass instance as argument which is called self.\n",
    "\n",
    "class methods: pass class as argument which is called cls.\n",
    "\n",
    "But static methods: does not passing anything automatically. They behave as normal functions. But static methods have some logical connection with the class."
   ]
  },
  {
   "cell_type": "code",
   "execution_count": 29,
   "metadata": {},
   "outputs": [
    {
     "name": "stdout",
     "output_type": "stream",
     "text": [
      "False\n"
     ]
    }
   ],
   "source": [
    "#let us def a function that would take date as input and return whether the day was weekday or not.\n",
    "#static method:\n",
    "#in python monday =0, sunday=6\n",
    "\n",
    "class Employee:\n",
    "    raise_amount = 1.04 #class variable value is changed here by using class method\n",
    "    no_of_employees = 0\n",
    "    \n",
    "    def __init__(self, first, last, pay):\n",
    "        self.first = first\n",
    "        self.last = last\n",
    "        self.email = first + '.' + last + '@email.com'\n",
    "        self.pay = pay\n",
    "        \n",
    "    \n",
    "    def fullname(self):  #Regular method\n",
    "        return '{} {}'.format(self.first, self.last)\n",
    "   \n",
    "    def apply_raise(self): #Regular method\n",
    "        self.pay = int(self.pay * self.raise_amount)\n",
    "        self.no_of_employees +=1\n",
    "        \n",
    "    @classmethod\n",
    "    def set_raise_amt(cls,amount): \n",
    "        cls.raise_amount=amount #assigning amount value to raise_amount class variable\n",
    "     \n",
    "    @classmethod\n",
    "    def from_string(cls,emp_str):\n",
    "        first, last, pay = emp_str.split('-')\n",
    "        return (cls(first, last, pay))\n",
    "    \n",
    "    @staticmethod\n",
    "    def is_workday(day):\n",
    "        if day.weekday()==5 or day.weekday() == 6:\n",
    "            return False #False means is not workday ie, either saturday or sunday\n",
    "        return True\n",
    "    \n",
    "emp_1 = Employee('Corey', 'Schafer', 50000)\n",
    "emp_2 = Employee('Test', 'Employee', 60000)\n",
    "\n",
    "import datetime\n",
    "my_date = datetime.date(2020,4,18)\n",
    "\n",
    "print(Employee.is_workday(my_date))"
   ]
  },
  {
   "cell_type": "markdown",
   "metadata": {},
   "source": [
    "Static method : If we don't access the class or instance anywhere within the defined function ie, @classmethod or self for instance access.\n",
    "In such conditions it would probably be @staticmethod."
   ]
  },
  {
   "cell_type": "markdown",
   "metadata": {},
   "source": [
    "In this class we learnt about differenc between class methods and static methods\n",
    "\n",
    "Staic methods don't operate on instances or class.\n",
    "\n",
    "Regular methods pass instance as the first argument and we call it as self."
   ]
  },
  {
   "cell_type": "code",
   "execution_count": null,
   "metadata": {},
   "outputs": [],
   "source": []
  }
 ],
 "metadata": {
  "kernelspec": {
   "display_name": "Python 3",
   "language": "python",
   "name": "python3"
  },
  "language_info": {
   "codemirror_mode": {
    "name": "ipython",
    "version": 3
   },
   "file_extension": ".py",
   "mimetype": "text/x-python",
   "name": "python",
   "nbconvert_exporter": "python",
   "pygments_lexer": "ipython3",
   "version": "3.7.5"
  }
 },
 "nbformat": 4,
 "nbformat_minor": 2
}
